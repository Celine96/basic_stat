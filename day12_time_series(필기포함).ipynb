{
 "cells": [
  {
   "cell_type": "code",
   "execution_count": null,
   "metadata": {},
   "outputs": [],
   "source": [
    "kaggle에서 시계열 data를 보거나\n",
    "교재에 data를 다운받아서 살펴보자\n"
   ]
  },
  {
   "cell_type": "code",
   "execution_count": null,
   "metadata": {},
   "outputs": [],
   "source": [
    "시계열 time series\n",
    "-동일한 변수의 시간에 따른 \"변동\"을 나타낸 데이터\n",
    "\n",
    "[예]\n",
    "- 전체 고객수의 변동\n",
    "- 특정 상품의 가격 변동\n",
    "- 계절마다 변하는 온도의 변동\n"
   ]
  },
  {
   "cell_type": "code",
   "execution_count": null,
   "metadata": {},
   "outputs": [],
   "source": [
    "자기상관 autocorrelation\n",
    "[개념]\n",
    "-상관 :  두변수가 얼마나 같이 움직이냐\n",
    "-자기상관 :자기자신과 자기자신이 얼마나 같이 움직이냐    \n",
    "이전시점의 값과 이후시점의 값 사이에 상관이 존재\n",
    "\n",
    "자기상관의 패턴 (positive serial correlation/negative serial correlation)\n",
    "자기상관이 - : 전시점과 이후 시점이 평균추세를 기준으로 부호가 다를 때\n",
    "자기상관이 + : 전시점과 이후 시점이 평균추세를 기준으로 부호가 같을 때\n",
    "\n",
    "[예]\n",
    "- 화학공정의 품질 ; 자기상관 +\n",
    "- 주별 제품 판매량 ; 자기상관 -\n",
    "- 몸무게 요요 ; 자기상관 -\n",
    "- 기분 조울증 ; 자기상관 -\n"
   ]
  },
  {
   "cell_type": "code",
   "execution_count": null,
   "metadata": {},
   "outputs": [],
   "source": [
    "추세 trend\n",
    "[개념]\n",
    "-장기적인 변동 요인\n",
    "-평균적인 경향성\n",
    "\n",
    "[예]\n",
    "- 화학공정의 품질 ; 평균 추세는 고정\n",
    "- 연간 치즈 생산량 ; 평균 추세는 증가\n",
    "\n",
    "자기상관 이용하는 사람 - 주식 단타\n",
    "추세 이용하는 사람 - 주식 장타\n"
   ]
  },
  {
   "cell_type": "code",
   "execution_count": null,
   "metadata": {},
   "outputs": [],
   "source": [
    "계절성 seasonality\n",
    "[개념]\n",
    "-자기상관보다는 큰 변동요인\n",
    "-주로 1년 단위로 발생하는 변동요인 (월효과나 주기효과)\n",
    "\n",
    "[예]\n",
    "월별음료 출고량\n",
    "\n",
    "정상성 stationary\n",
    "[개념]\n",
    "-normal/abnormal의 뜻이 아님\n",
    "-정상 : 시계열의 구조(추세, 자기상관)가 일정한 상태\n",
    "-비정상 : 시계열의 구조(추세, 자기상관)가 변하는 상태\n",
    "-비정상인 데이터는 패턴이 계속 바뀌니까 분석하기가 어렵다\n",
    "\n",
    "이상점\n",
    "[개념]\n",
    "일정한 추세나 자기상관에 벗어나는 데이터\n",
    "[예]\n",
    "-공장 화재 이상점"
   ]
  },
  {
   "cell_type": "code",
   "execution_count": null,
   "metadata": {},
   "outputs": [],
   "source": [
    "예시\n",
    "-주별 제품 판매량\n",
    "-자기 상관 \n",
    "- 화학공정의 품질 ; 자기상관 +\n",
    "-주별 제품 판매량 ; 자기상관 -\n",
    "\n",
    "-추세 - 연간 치즈 생산량\n",
    "-계절성 - 월별음료 출고량\n",
    "-비정상 - 주가\n",
    "-이상점 - 공장화재\n"
   ]
  },
  {
   "cell_type": "code",
   "execution_count": null,
   "metadata": {},
   "outputs": [],
   "source": [
    "MA 모형\n",
    "[식]\n",
    "시점t의 값 = 평균 + 시점t의 오차 + (t-1)의 가중치*(이전 시점 t-1의 오차)....\n",
    "\n",
    "[MA(q)모형 개념]\n",
    "-기본 가정: 고정된 평균이 있고, 나머지 데이터들은 이에 크게 벗어나지 않는다\n",
    "-예) 월평균 다이어리 매출: 100만원, 기분의 자극, 슬픔의 회복 최대 기간: 2년\n",
    "        \n",
    "-현재 시점에 q시점 이전만 영향을 미친다면 MA(q)\n",
    "즉 어느 시점 이전부터 영향을 미쳤는지에 따라서 MA(q)결정\n",
    "-q는 ACF를 그려보고 정한다\n",
    "-예) ACF의 그래프에서 p-value < .05 기준선 밖에 있는 막대가 3월까지 있다 = 어떤 영향이 3개월 간다\n",
    "\n",
    "-오래전 시점의 영향을 사라질 수 있음\n",
    "-만약 현재 시점에는 1시점 이전만 영향을 미친다면 MA(1)\n",
    "-만약 현재 시점에 1,2시점 이전만 영향을 미친다면 MA(2)\n",
    "\n",
    "[MA 모형에서의 ACF와 PACF]\n",
    "-ACF는 특정한 값 q에서 뚝 끊기는 형태\n",
    "-PACF는 점점 감소하는 형태"
   ]
  },
  {
   "cell_type": "code",
   "execution_count": null,
   "metadata": {},
   "outputs": [],
   "source": [
    "AR 모형 \n",
    "[식]\n",
    "시점 t+1의 값 = 시점 t의 가중치 * 시점 t의 값 \n",
    "\n",
    "[AR(p)모형 개념]\n",
    "-기본 가정: 평균을 고려하지 않고, 현시점은 지난 시점들에 직접적인 영향을 받는다 \n",
    "-p는 PACF를 그려보고 정한다\n",
    "\n",
    "[AR 모형에서의 ACF의 문제]\n",
    "-p는 PACF를 그려보고 정한다\n",
    "-MA(q)모형은 q이상 차이가 나면 영향력이 0\n",
    "-AR(p)모형에서는 AR(1)이라도 영향이 계속 남음\n",
    "\n",
    "[MA 모형에서의 ACF와 PACF]\n",
    "-FACF는 특정한 값 p에서 뚝 끊기는 형태\n",
    "-ACF는 점점 감소하는 형태"
   ]
  },
  {
   "cell_type": "code",
   "execution_count": null,
   "metadata": {},
   "outputs": [],
   "source": [
    "MA모형과 AR모형의 차이\n",
    "MA모형: 이전 시점의 오차가 영향을 준다. ACF를 그려보고 파라미터를 정한다\n",
    "AR모형: 이전 시점의 값이 영향을 준다. PACF를 그려보고 파라미터를 정한다"
   ]
  },
  {
   "cell_type": "code",
   "execution_count": null,
   "metadata": {},
   "outputs": [],
   "source": [
    "ARMA 모형 \n",
    "[식]\n",
    "AR + MA \n",
    "\n",
    "[ARMA(p,q)모형 개념]\n",
    "ARMA 모형에서의 ACF와 PACF 둘다 봐야 한다\n",
    "\n",
    "ACF에서 끊기는 시점으로 MA부분(q)를 정하고\n",
    "PACF에서 끊기는 시점으로 AR부분(p)를 정한다"
   ]
  },
  {
   "cell_type": "code",
   "execution_count": null,
   "metadata": {},
   "outputs": [],
   "source": [
    "ARIMA(p,d,q) 모형 \n",
    "[식]\n",
    "AR + MA 에서 차분 d가 통합(integrated)된 것\n",
    "\n",
    "예) \n",
    "d=1인 경우 한번 차분\n",
    "d=2인 경우 두번 차분\n",
    "\n",
    "[ARIMA(p,d,q)모형 개념]\n",
    "-ARMA 모형과 같이 ACF와 PACF 둘다 봐야 한다\n",
    "-ACF에서 끊기는 시점으로 MA부분(q)를 정하고\n",
    "-PACF에서 끊기는 시점으로 AR부분(p)를 정한다\n",
    "\n",
    "-하이퍼파라미터 값이 0,1,2면 왠만하면 정해져서 다 넣어보면서 돌리는 것 도 추천"
   ]
  },
  {
   "cell_type": "code",
   "execution_count": null,
   "metadata": {},
   "outputs": [],
   "source": [
    "SARIMA 모형 \n",
    "\n",
    "[식]\n",
    "S + AR + I + MA\n",
    "ARIMA 모형에서 계정성(seasonality)이 추가된 것 \n",
    "\n",
    "[SARIMA(p,d,q)(P,D,Q,m)모형 개념]\n",
    "(p,d,q) : 부분적으로 어떻게 움직이는 지\n",
    "(p,D,Q,m) : 계절성\n",
    "m : 계절의 기간"
   ]
  },
  {
   "cell_type": "code",
   "execution_count": null,
   "metadata": {},
   "outputs": [],
   "source": [
    "SARIMAX 모형 \n",
    "\n",
    "[식]\n",
    "S+AR+I+MA+X\n",
    "SARIMA 모형에서 외생변수(eXogenous)를 추가\n",
    "\n",
    "[하이퍼파라미터]"
   ]
  },
  {
   "cell_type": "code",
   "execution_count": null,
   "metadata": {},
   "outputs": [],
   "source": [
    "Prophet\n"
   ]
  },
  {
   "cell_type": "code",
   "execution_count": 2,
   "metadata": {},
   "outputs": [],
   "source": [
    "import pandas"
   ]
  },
  {
   "cell_type": "markdown",
   "metadata": {},
   "source": [
    "## 비행기 승객수 데이터"
   ]
  },
  {
   "cell_type": "code",
   "execution_count": 3,
   "metadata": {},
   "outputs": [],
   "source": [
    "airline = pandas.read_csv('airline.csv', parse_dates=['Month']) #읽을 때, 날짜로 다뤄라~~. pandas-time series-date function"
   ]
  },
  {
   "cell_type": "code",
   "execution_count": 4,
   "metadata": {},
   "outputs": [
    {
     "data": {
      "text/html": [
       "<div>\n",
       "<style scoped>\n",
       "    .dataframe tbody tr th:only-of-type {\n",
       "        vertical-align: middle;\n",
       "    }\n",
       "\n",
       "    .dataframe tbody tr th {\n",
       "        vertical-align: top;\n",
       "    }\n",
       "\n",
       "    .dataframe thead th {\n",
       "        text-align: right;\n",
       "    }\n",
       "</style>\n",
       "<table border=\"1\" class=\"dataframe\">\n",
       "  <thead>\n",
       "    <tr style=\"text-align: right;\">\n",
       "      <th></th>\n",
       "      <th>Month</th>\n",
       "      <th>Passengers</th>\n",
       "    </tr>\n",
       "  </thead>\n",
       "  <tbody>\n",
       "    <tr>\n",
       "      <th>0</th>\n",
       "      <td>1949-01-01</td>\n",
       "      <td>112</td>\n",
       "    </tr>\n",
       "    <tr>\n",
       "      <th>1</th>\n",
       "      <td>1949-02-01</td>\n",
       "      <td>118</td>\n",
       "    </tr>\n",
       "    <tr>\n",
       "      <th>2</th>\n",
       "      <td>1949-03-01</td>\n",
       "      <td>132</td>\n",
       "    </tr>\n",
       "    <tr>\n",
       "      <th>3</th>\n",
       "      <td>1949-04-01</td>\n",
       "      <td>129</td>\n",
       "    </tr>\n",
       "    <tr>\n",
       "      <th>4</th>\n",
       "      <td>1949-05-01</td>\n",
       "      <td>121</td>\n",
       "    </tr>\n",
       "  </tbody>\n",
       "</table>\n",
       "</div>"
      ],
      "text/plain": [
       "       Month  Passengers\n",
       "0 1949-01-01         112\n",
       "1 1949-02-01         118\n",
       "2 1949-03-01         132\n",
       "3 1949-04-01         129\n",
       "4 1949-05-01         121"
      ]
     },
     "execution_count": 4,
     "metadata": {},
     "output_type": "execute_result"
    }
   ],
   "source": [
    "airline.head()"
   ]
  },
  {
   "cell_type": "code",
   "execution_count": 5,
   "metadata": {},
   "outputs": [
    {
     "data": {
      "text/plain": [
       "dtype('<M8[ns]')"
      ]
     },
     "execution_count": 5,
     "metadata": {},
     "output_type": "execute_result"
    }
   ],
   "source": [
    "airline['Month'].dtype"
   ]
  },
  {
   "cell_type": "markdown",
   "metadata": {},
   "source": [
    "## 시각화"
   ]
  },
  {
   "cell_type": "code",
   "execution_count": 6,
   "metadata": {},
   "outputs": [],
   "source": [
    "import seaborn"
   ]
  },
  {
   "cell_type": "code",
   "execution_count": 7,
   "metadata": {},
   "outputs": [
    {
     "name": "stderr",
     "output_type": "stream",
     "text": [
      "C:\\Users\\sooyeon\\Anaconda3\\lib\\site-packages\\pandas\\plotting\\_matplotlib\\converter.py:103: FutureWarning: Using an implicitly registered datetime converter for a matplotlib plotting method. The converter was registered by pandas on import. Future versions of pandas will require you to explicitly register matplotlib converters.\n",
      "\n",
      "To register the converters:\n",
      "\t>>> from pandas.plotting import register_matplotlib_converters\n",
      "\t>>> register_matplotlib_converters()\n",
      "  warnings.warn(msg, FutureWarning)\n"
     ]
    },
    {
     "data": {
      "text/plain": [
       "<matplotlib.axes._subplots.AxesSubplot at 0x16da55507f0>"
      ]
     },
     "execution_count": 7,
     "metadata": {},
     "output_type": "execute_result"
    },
    {
     "data": {
      "image/png": "[encoded data removed]",
      "text/plain": [
       "<Figure size 432x288 with 1 Axes>"
      ]
     },
     "metadata": {
      "needs_background": "light"
     },
     "output_type": "display_data"
    }
   ],
   "source": [
    "seaborn.lineplot('Month', 'Passengers', data=airline)"
   ]
  },
  {
   "cell_type": "markdown",
   "metadata": {},
   "source": [
    "트렌드는 증가\n",
    "계절성은 1년마다"
   ]
  },
  {
   "cell_type": "code",
   "execution_count": 8,
   "metadata": {},
   "outputs": [
    {
     "data": {
      "text/plain": [
       "144"
      ]
     },
     "execution_count": 8,
     "metadata": {},
     "output_type": "execute_result"
    }
   ],
   "source": [
    "len(airline)"
   ]
  },
  {
   "cell_type": "code",
   "execution_count": 9,
   "metadata": {},
   "outputs": [
    {
     "data": {
      "text/plain": [
       "0             NaN\n",
       "1             NaN\n",
       "2             NaN\n",
       "3             NaN\n",
       "4             NaN\n",
       "          ...    \n",
       "139    463.333333\n",
       "140    467.083333\n",
       "141    471.583333\n",
       "142    473.916667\n",
       "143    476.166667\n",
       "Name: Passengers, Length: 144, dtype: float64"
      ]
     },
     "execution_count": 9,
     "metadata": {},
     "output_type": "execute_result"
    }
   ],
   "source": [
    "airline['Passengers'].rolling(window = 12).mean()\n",
    "#rolling = window를 구간으로 나눠서 평균을 구한다"
   ]
  },
  {
   "cell_type": "markdown",
   "metadata": {},
   "source": [
    "앞의 NaN는 데이터가 12개월이 모잘라서 이렇게 되버림"
   ]
  },
  {
   "cell_type": "code",
   "execution_count": 10,
   "metadata": {},
   "outputs": [
    {
     "data": {
      "text/plain": [
       "<matplotlib.axes._subplots.AxesSubplot at 0x16da565ff28>"
      ]
     },
     "execution_count": 10,
     "metadata": {},
     "output_type": "execute_result"
    },
    {
     "data": {
      "image/png": "[encoded data removed]",
      "text/plain": [
       "<Figure size 432x288 with 1 Axes>"
      ]
     },
     "metadata": {
      "needs_background": "light"
     },
     "output_type": "display_data"
    }
   ],
   "source": [
    "seaborn.lineplot('Month', 'Passengers', data=airline)\n",
    "seaborn.lineplot(\n",
    "    airline['Month'] #의미하는 바는 lineplot의 x좌표\n",
    "    ,airline['Passengers'].rolling(window = 12).mean() #의미하는 바는 lineplot의 y좌표\n",
    "    ,color='red')"
   ]
  },
  {
   "cell_type": "raw",
   "metadata": {},
   "source": [
    "12개월을 단위로 잘라서 하기 때문에 1950년에대한 추세선은 없어"
   ]
  },
  {
   "cell_type": "code",
   "execution_count": null,
   "metadata": {},
   "outputs": [],
   "source": [
    "평활 smoothing\n",
    "[개념]\n",
    "데이터에서 단기적인 변화를 제거하고 매끄럽게 만드는 것\n",
    "전반적인 추세를 보고 싶을 때 사용\n",
    "\n",
    "이동평균(moving average, rolling mean)\n",
    "가장 흔히 쓰이는 평활법"
   ]
  },
  {
   "cell_type": "markdown",
   "metadata": {},
   "source": [
    "## ACF\n",
    "ACF는 auto correlation fuction\n",
    "1,2,3시점 간격으로 상관을 구한것"
   ]
  },
  {
   "cell_type": "code",
   "execution_count": null,
   "metadata": {},
   "outputs": [],
   "source": [
    "ACF(auto correlation fuction)\n",
    "[개념]\n",
    "자기 상관 그래프\n",
    "1시점,2시점,3시점,,,, 간격으로 상관을 구하는 것\n",
    "\n",
    "\n",
    "\n",
    "[그래프 해석]\n",
    "-막대 그래프\n",
    "한달간격으로 상관을 구하고, 2달간격으로 상관을 구하고, 3달간격으로 상관을 구하고,,,,\n",
    "24개월치로 구해서 막대그래프로 나타낸 것\n",
    "-점선\n",
    "자기상관이 없다 라는 가설에 대한 p-value 값이 0.05보다 작다의 기준선\n",
    "선 안:  p-value 값이 0.05보다 크다. 자기상관이 없다\n",
    "선 밖:  p-value 값이 0.05보다 작다. 자기상관이 있다\n",
    " \n",
    "데이터가 어떻게 움직이는지 ACF로 짐작이 가능하다\n",
    "[예- 그래프 해석]\n",
    "-무작위로 움직이는 경우 ACF\n",
    "모든 막대가 점선 안에 있다\n",
    "모든 월에 대해 자기상관이 0\n",
    "\n",
    "-Possitive한 상관이 있는 ACF\n",
    "막대가 3월까지만 점선밖에 있다\n",
    "3월까지만 자기상관이 플러스로 있다\n",
    "점선안에 있는 나머지 월은 자기상관이 0\n",
    "\n",
    "-Negative한 상관이 있는 ACF\n",
    "점선을 기준으로 왔다갔다\n",
    "\n",
    "-계정성 IN ACF\n",
    "1월과 12개월만 자기상관이 있다고 나오고 나머지는 점선 안에 있다면.\n",
    "1월과 12개월을 주기로 계절성이 있다고 판단 가능\n",
    "\n",
    "-비정상(non-stationary) 시계열의 ACF\n",
    "자기상관의 패턴으로 정상성 판단이 가능하다\n",
    "\n",
    "자기상관이 떨어지는 속도, 기울기로 판단\n",
    "떨어지는 속도가 빠를 때(=자기 상관 막대가 몇개 없을 때): 정상\n",
    "떨어지는 속도가 느릴 때: 비정상"
   ]
  },
  {
   "cell_type": "markdown",
   "metadata": {},
   "source": [
    "# point\n",
    "## ACF로 계절성 확인 가능(1,12월)\n",
    "## 자기상관의 패턴으로 정상성 판단이 가능하다 by 자기상관막대 떨어지는 속도"
   ]
  },
  {
   "cell_type": "markdown",
   "metadata": {},
   "source": [
    "## ACF"
   ]
  },
  {
   "cell_type": "code",
   "execution_count": 11,
   "metadata": {},
   "outputs": [],
   "source": [
    "from statsmodels.graphics.tsaplots import plot_acf"
   ]
  },
  {
   "cell_type": "code",
   "execution_count": 12,
   "metadata": {},
   "outputs": [
    {
     "data": {
      "image/png": "[encoded data removed]",
      "text/plain": [
       "<Figure size 432x288 with 1 Axes>"
      ]
     },
     "metadata": {
      "needs_background": "light"
     },
     "output_type": "display_data"
    }
   ],
   "source": [
    "fig = plot_acf(airline['Passengers'], lags=24)\n",
    "# 떨어지는 속도가 느리니까 비정상\n",
    "# ACF 그래프를 볼때 추세는 제거하고 봐야해\n",
    "#추세 자체를 비정상으로 인식하니까"
   ]
  },
  {
   "cell_type": "code",
   "execution_count": 13,
   "metadata": {},
   "outputs": [
    {
     "ename": "NameError",
     "evalue": "name 'plot_acf_acf' is not defined",
     "output_type": "error",
     "traceback": [
      "\u001b[1;31m---------------------------------------------------------------------------\u001b[0m",
      "\u001b[1;31mNameError\u001b[0m                                 Traceback (most recent call last)",
      "\u001b[1;32m<ipython-input-13-18b4035868b1>\u001b[0m in \u001b[0;36m<module>\u001b[1;34m\u001b[0m\n\u001b[1;32m----> 1\u001b[1;33m \u001b[0mhelp\u001b[0m\u001b[1;33m(\u001b[0m\u001b[0mplot_acf_acf\u001b[0m\u001b[1;33m)\u001b[0m\u001b[1;33m\u001b[0m\u001b[1;33m\u001b[0m\u001b[0m\n\u001b[0m",
      "\u001b[1;31mNameError\u001b[0m: name 'plot_acf_acf' is not defined"
     ]
    }
   ],
   "source": [
    "help(plot_acf_acf)"
   ]
  },
  {
   "cell_type": "code",
   "execution_count": null,
   "metadata": {},
   "outputs": [],
   "source": [
    "PACF(partial ACF)\n",
    "-ACF에서는 1시점 간격으로 상관이 있을 경우 2시점, 3시점 간격으로도 상관이 있는 것처럼 보임\n",
    "-즉 2에서 3시점은 제거해버리고 순수하게 1시점에서 각 시점으로서의 상관만 구함. 그래서 \"partial\"\n",
    "-PACF는 순수하게 시점간 상관만 추출한 것\n",
    "\n",
    "Augmented Dickey-Fuller Test\n",
    "시계열이 정상(stationary)인지 검정\n",
    "p가 0.05보다 작으면 정상"
   ]
  },
  {
   "cell_type": "code",
   "execution_count": 14,
   "metadata": {},
   "outputs": [],
   "source": [
    "from statsmodels.graphics.tsaplots import plot_pacf"
   ]
  },
  {
   "cell_type": "code",
   "execution_count": 15,
   "metadata": {},
   "outputs": [
    {
     "data": {
      "image/png": "[encoded data removed]",
      "text/plain": [
       "<Figure size 432x288 with 1 Axes>"
      ]
     },
     "metadata": {
      "needs_background": "light"
     },
     "output_type": "display_data"
    }
   ],
   "source": [
    "fig = plot_pacf(airline['Passengers'])"
   ]
  },
  {
   "cell_type": "markdown",
   "metadata": {},
   "source": [
    "## 정상성 검정 Augmented Dickey-Fuller Test\n",
    "p <.05 -> 정상; stationary"
   ]
  },
  {
   "cell_type": "code",
   "execution_count": null,
   "metadata": {},
   "outputs": [],
   "source": [
    "정상성 검정 Augmented Dickey-Fuller Test\n",
    "\n",
    "ACF에서 자기상관 막대가 떨어지는 속도를 보는 것 보다 더 분명함\n",
    "P가 .05보다 작으면 정상\n",
    "\n",
    "위의 augumented dickey-fuller test의 P값이 0.99이므로 확식하게 비정상\n",
    "\n",
    "-추세를 다 파악했는지 확인하는 용도\n",
    "비정상 데이터 - 추세 = 자기상관\n",
    "추세를 뺀 데이터 (=자기상관의 패턴이)가 정상이면 데이터의 패턴을 파악할 수 있다는 의미\n",
    "\n"
   ]
  },
  {
   "cell_type": "code",
   "execution_count": 16,
   "metadata": {},
   "outputs": [],
   "source": [
    "from statsmodels.tsa.stattools import adfuller"
   ]
  },
  {
   "cell_type": "code",
   "execution_count": 17,
   "metadata": {},
   "outputs": [
    {
     "name": "stdout",
     "output_type": "stream",
     "text": [
      "ADF Statistic: 0.8153688792060497\n",
      "p-value: 0.991880243437641\n"
     ]
    }
   ],
   "source": [
    "result = adfuller(airline['Passengers'])\n",
    "\n",
    "print('ADF Statistic: {}'.format(result[0]))\n",
    "print('p-value: {}'.format(result[1]))\n",
    "\n",
    "#p-value: 0.991880243437641 ->> 확실하게 비정상"
   ]
  },
  {
   "cell_type": "markdown",
   "metadata": {},
   "source": [
    "## 로그 변환과 차분"
   ]
  },
  {
   "cell_type": "code",
   "execution_count": null,
   "metadata": {},
   "outputs": [],
   "source": [
    "차분 differencing\n",
    "-시계열 데이터를 직접/간접 시점간의 차이로 바꾸는 것\n",
    "-차분으로 선형적 추세를 제거\n",
    "-넓어지는 추세는 제거 불가능 (-넓어지는 추세는 \"로그 변환\"으로 줄인다)\n",
    "\n",
    "-선형적인 추세가 있으면 시계열이 비정상(non-stationary)\n",
    "(역 가능)\n",
    "-차분후에 비정상의 지표가 정상으로 바뀐다면 이데이터는 선형적 추세가 있었던 것\n"
   ]
  },
  {
   "cell_type": "code",
   "execution_count": 18,
   "metadata": {},
   "outputs": [],
   "source": [
    "import numpy"
   ]
  },
  {
   "cell_type": "code",
   "execution_count": 19,
   "metadata": {},
   "outputs": [],
   "source": [
    "x = airline['Passengers'].values\n",
    "x = numpy.log(x) #로그변환"
   ]
  },
  {
   "cell_type": "code",
   "execution_count": 20,
   "metadata": {},
   "outputs": [],
   "source": [
    "diff = x[1:] - x[:-1] #차분"
   ]
  },
  {
   "cell_type": "code",
   "execution_count": 21,
   "metadata": {},
   "outputs": [
    {
     "data": {
      "text/plain": [
       "<matplotlib.axes._subplots.AxesSubplot at 0x16da5b5ef28>"
      ]
     },
     "execution_count": 21,
     "metadata": {},
     "output_type": "execute_result"
    },
    {
     "data": {
      "image/png": "[encoded data removed]",
      "text/plain": [
       "<Figure size 432x288 with 1 Axes>"
      ]
     },
     "metadata": {
      "needs_background": "light"
     },
     "output_type": "display_data"
    }
   ],
   "source": [
    "seaborn.lineplot(\n",
    "    airline.iloc[1:, 0],\n",
    "    diff)\n",
    "    "
   ]
  },
  {
   "cell_type": "markdown",
   "metadata": {},
   "source": [
    "추세선(=평균이 올라가는 거 BY 차분) & 넓어지는거(BY 로그변환) 사라짐 ->> 비정상부분이 사라짐 = 정상 시계열이 됨"
   ]
  },
  {
   "cell_type": "code",
   "execution_count": 24,
   "metadata": {
    "scrolled": true
   },
   "outputs": [
    {
     "data": {
      "image/png": "[encoded data removed]",
      "text/plain": [
       "<Figure size 432x288 with 1 Axes>"
      ]
     },
     "metadata": {
      "needs_background": "light"
     },
     "output_type": "display_data"
    }
   ],
   "source": [
    "fig = plot_acf(diff, lags=23)"
   ]
  },
  {
   "cell_type": "markdown",
   "metadata": {},
   "source": [
    "파란색인 신뢰구간인거\n",
    "즉, 파란색을 넘어가야 .05보다 작아서 의미가 있어"
   ]
  },
  {
   "cell_type": "code",
   "execution_count": 25,
   "metadata": {
    "scrolled": true
   },
   "outputs": [
    {
     "data": {
      "image/png": "[encoded data removed]",
      "text/plain": [
       "<Figure size 432x288 with 1 Axes>"
      ]
     },
     "metadata": {
      "needs_background": "light"
     },
     "output_type": "display_data"
    }
   ],
   "source": [
    "fig = plot_pacf(diff)"
   ]
  },
  {
   "cell_type": "code",
   "execution_count": 26,
   "metadata": {},
   "outputs": [
    {
     "name": "stdout",
     "output_type": "stream",
     "text": [
      "ADF Statistic: -2.7171305983881453\n",
      "p-value: 0.07112054815085667\n"
     ]
    }
   ],
   "source": [
    "result = adfuller(diff)\n",
    "\n",
    "print('ADF Statistic: {}'.format(result[0]))\n",
    "print('p-value: {}'.format(result[1]))"
   ]
  },
  {
   "cell_type": "markdown",
   "metadata": {},
   "source": [
    "p-value: 0.07112054815085432\n",
    "비정상적인 부분이 거희다 사라졌네 but 아직도 남아있다...."
   ]
  },
  {
   "cell_type": "markdown",
   "metadata": {},
   "source": [
    "## SARIMA"
   ]
  },
  {
   "cell_type": "markdown",
   "metadata": {},
   "source": [
    "SARIMA 모형의 하이퍼 파라미터 선택\n",
    "\n",
    "• 하이퍼 파라미터: p, d, q, P, D, Q, m\n",
    "• 플롯, ACF, PACF 등등을 보면서 열심히 생각한다\n",
    "• 여러 가지로 바꿔가며 AIC, BIC 등을 확인한다\n",
    "• 기존 데이터의 마지막 부분을 예측하여 오차를 확인한다"
   ]
  },
  {
   "cell_type": "code",
   "execution_count": 22,
   "metadata": {},
   "outputs": [],
   "source": [
    "from statsmodels.tsa.statespace.sarimax import SARIMAX"
   ]
  },
  {
   "cell_type": "code",
   "execution_count": 23,
   "metadata": {},
   "outputs": [],
   "source": [
    "x_train = airline.iloc[:-24, 1]\n",
    "x_test = airline.iloc[-24:, 1]"
   ]
  },
  {
   "cell_type": "code",
   "execution_count": 31,
   "metadata": {},
   "outputs": [],
   "source": [
    "res = SARIMAX(\n",
    "    x_train, \n",
    "    order=(1, 1, 1),  #하이퍼 파라미터; p,d,q ->긴 자기상관 \n",
    "    seasonal_order=(1, 1, 1, 1) #하이퍼 파라미터; P,D,Q,m\n",
    ").fit()"
   ]
  },
  {
   "cell_type": "code",
   "execution_count": 25,
   "metadata": {},
   "outputs": [
    {
     "data": {
      "text/html": [
       "<table class=\"simpletable\">\n",
       "<caption>Statespace Model Results</caption>\n",
       "<tr>\n",
       "  <th>Dep. Variable:</th>            <td>Passengers</td>           <th>  No. Observations:  </th>    <td>120</td>  \n",
       "</tr>\n",
       "<tr>\n",
       "  <th>Model:</th>           <td>SARIMAX(1, 1, 1)x(1, 1, 1, 1)</td> <th>  Log Likelihood     </th> <td>-550.921</td>\n",
       "</tr>\n",
       "<tr>\n",
       "  <th>Date:</th>                  <td>Wed, 09 Oct 2019</td>        <th>  AIC                </th> <td>1111.843</td>\n",
       "</tr>\n",
       "<tr>\n",
       "  <th>Time:</th>                      <td>16:00:22</td>            <th>  BIC                </th> <td>1125.696</td>\n",
       "</tr>\n",
       "<tr>\n",
       "  <th>Sample:</th>                        <td>0</td>               <th>  HQIC               </th> <td>1117.468</td>\n",
       "</tr>\n",
       "<tr>\n",
       "  <th></th>                            <td> - 120</td>             <th>                     </th>     <td> </td>   \n",
       "</tr>\n",
       "<tr>\n",
       "  <th>Covariance Type:</th>              <td>opg</td>              <th>                     </th>     <td> </td>   \n",
       "</tr>\n",
       "</table>\n",
       "<table class=\"simpletable\">\n",
       "<tr>\n",
       "     <td></td>        <th>coef</th>     <th>std err</th>      <th>z</th>      <th>P>|z|</th>  <th>[0.025</th>    <th>0.975]</th>  \n",
       "</tr>\n",
       "<tr>\n",
       "  <th>ar.L1</th>   <td>    0.5085</td> <td>    0.042</td> <td>   12.085</td> <td> 0.000</td> <td>    0.426</td> <td>    0.591</td>\n",
       "</tr>\n",
       "<tr>\n",
       "  <th>ma.L1</th>   <td>   -0.9996</td> <td>    1.853</td> <td>   -0.540</td> <td> 0.590</td> <td>   -4.631</td> <td>    2.632</td>\n",
       "</tr>\n",
       "<tr>\n",
       "  <th>ar.S.L1</th> <td>    0.5085</td> <td>    0.042</td> <td>   12.085</td> <td> 0.000</td> <td>    0.426</td> <td>    0.591</td>\n",
       "</tr>\n",
       "<tr>\n",
       "  <th>ma.S.L1</th> <td>   -0.9996</td> <td>    1.853</td> <td>   -0.540</td> <td> 0.590</td> <td>   -4.631</td> <td>    2.632</td>\n",
       "</tr>\n",
       "<tr>\n",
       "  <th>sigma2</th>  <td>  599.8607</td> <td> 2215.310</td> <td>    0.271</td> <td> 0.787</td> <td>-3742.067</td> <td> 4941.788</td>\n",
       "</tr>\n",
       "</table>\n",
       "<table class=\"simpletable\">\n",
       "<tr>\n",
       "  <th>Ljung-Box (Q):</th>          <td>255.88</td> <th>  Jarque-Bera (JB):  </th> <td>1.61</td>\n",
       "</tr>\n",
       "<tr>\n",
       "  <th>Prob(Q):</th>                 <td>0.00</td>  <th>  Prob(JB):          </th> <td>0.45</td>\n",
       "</tr>\n",
       "<tr>\n",
       "  <th>Heteroskedasticity (H):</th>  <td>7.35</td>  <th>  Skew:              </th> <td>0.23</td>\n",
       "</tr>\n",
       "<tr>\n",
       "  <th>Prob(H) (two-sided):</th>     <td>0.00</td>  <th>  Kurtosis:          </th> <td>3.33</td>\n",
       "</tr>\n",
       "</table><br/><br/>Warnings:<br/>[1] Covariance matrix calculated using the outer product of gradients (complex-step).<br/>[2] Covariance matrix is singular or near-singular, with condition number 4.29e+23. Standard errors may be unstable."
      ],
      "text/plain": [
       "<class 'statsmodels.iolib.summary.Summary'>\n",
       "\"\"\"\n",
       "                                 Statespace Model Results                                \n",
       "=========================================================================================\n",
       "Dep. Variable:                        Passengers   No. Observations:                  120\n",
       "Model:             SARIMAX(1, 1, 1)x(1, 1, 1, 1)   Log Likelihood                -550.921\n",
       "Date:                           Wed, 09 Oct 2019   AIC                           1111.843\n",
       "Time:                                   16:00:22   BIC                           1125.696\n",
       "Sample:                                        0   HQIC                          1117.468\n",
       "                                           - 120                                         \n",
       "Covariance Type:                             opg                                         \n",
       "==============================================================================\n",
       "                 coef    std err          z      P>|z|      [0.025      0.975]\n",
       "------------------------------------------------------------------------------\n",
       "ar.L1          0.5085      0.042     12.085      0.000       0.426       0.591\n",
       "ma.L1         -0.9996      1.853     -0.540      0.590      -4.631       2.632\n",
       "ar.S.L1        0.5085      0.042     12.085      0.000       0.426       0.591\n",
       "ma.S.L1       -0.9996      1.853     -0.540      0.590      -4.631       2.632\n",
       "sigma2       599.8607   2215.310      0.271      0.787   -3742.067    4941.788\n",
       "===================================================================================\n",
       "Ljung-Box (Q):                      255.88   Jarque-Bera (JB):                 1.61\n",
       "Prob(Q):                              0.00   Prob(JB):                         0.45\n",
       "Heteroskedasticity (H):               7.35   Skew:                             0.23\n",
       "Prob(H) (two-sided):                  0.00   Kurtosis:                         3.33\n",
       "===================================================================================\n",
       "\n",
       "Warnings:\n",
       "[1] Covariance matrix calculated using the outer product of gradients (complex-step).\n",
       "[2] Covariance matrix is singular or near-singular, with condition number 4.29e+23. Standard errors may be unstable.\n",
       "\"\"\""
      ]
     },
     "execution_count": 25,
     "metadata": {},
     "output_type": "execute_result"
    }
   ],
   "source": [
    "res.summary()"
   ]
  },
  {
   "cell_type": "markdown",
   "metadata": {},
   "source": [
    "테스트용으로 잘라둔 마지막 24개월치를 예측"
   ]
  },
  {
   "cell_type": "code",
   "execution_count": 26,
   "metadata": {},
   "outputs": [],
   "source": [
    "n = len(x_train)\n",
    "m = len(x_test)\n",
    "forecast = res.predict(n + 1, n+m)"
   ]
  },
  {
   "cell_type": "code",
   "execution_count": 27,
   "metadata": {},
   "outputs": [
    {
     "data": {
      "text/plain": [
       "<matplotlib.axes._subplots.AxesSubplot at 0x8f12230>"
      ]
     },
     "execution_count": 27,
     "metadata": {},
     "output_type": "execute_result"
    },
    {
     "data": {
      "image/png": "[encoded data removed]",
      "text/plain": [
       "<Figure size 432x288 with 1 Axes>"
      ]
     },
     "metadata": {
      "needs_background": "light"
     },
     "output_type": "display_data"
    }
   ],
   "source": [
    "seaborn.lineplot('Month', 'Passengers', data=airline, color='lightgrey')\n",
    "seaborn.lineplot(\n",
    "    airline.iloc[-24:, 0],\n",
    "    forecast,\n",
    "    color='red'\n",
    ")"
   ]
  },
  {
   "cell_type": "markdown",
   "metadata": {},
   "source": [
    "예측이 빨간색인데 보이시는대로 잘 맞지 않네요;;"
   ]
  },
  {
   "cell_type": "code",
   "execution_count": 29,
   "metadata": {},
   "outputs": [],
   "source": [
    "from sklearn.metrics import mean_squared_error"
   ]
  },
  {
   "cell_type": "code",
   "execution_count": 30,
   "metadata": {},
   "outputs": [
    {
     "data": {
      "text/plain": [
       "5607.45227624282"
      ]
     },
     "execution_count": 30,
     "metadata": {},
     "output_type": "execute_result"
    }
   ],
   "source": [
    "mean_squared_error(x_test, forecast) #MSE가 0까지 작아지는 방향으로"
   ]
  },
  {
   "cell_type": "markdown",
   "metadata": {},
   "source": [
    "## Facebook Prophet"
   ]
  },
  {
   "cell_type": "markdown",
   "metadata": {},
   "source": [
    "### 설치"
   ]
  },
  {
   "cell_type": "code",
   "execution_count": null,
   "metadata": {},
   "outputs": [],
   "source": [
    "!conda install -y pystan"
   ]
  },
  {
   "cell_type": "code",
   "execution_count": null,
   "metadata": {},
   "outputs": [],
   "source": [
    "!conda install -y -c conda-forge fbprophet"
   ]
  },
  {
   "cell_type": "code",
   "execution_count": null,
   "metadata": {},
   "outputs": [],
   "source": [
    "!pip install fbprophet plotly"
   ]
  },
  {
   "cell_type": "markdown",
   "metadata": {},
   "source": [
    "### 예측"
   ]
  },
  {
   "cell_type": "code",
   "execution_count": 1,
   "metadata": {},
   "outputs": [],
   "source": [
    "from fbprophet import Prophet"
   ]
  },
  {
   "cell_type": "code",
   "execution_count": 6,
   "metadata": {},
   "outputs": [],
   "source": [
    "df = airline.iloc[:-24, :].copy()"
   ]
  },
  {
   "cell_type": "code",
   "execution_count": 7,
   "metadata": {},
   "outputs": [],
   "source": [
    "df.columns = ['ds', 'y']"
   ]
  },
  {
   "cell_type": "code",
   "execution_count": 8,
   "metadata": {},
   "outputs": [
    {
     "name": "stderr",
     "output_type": "stream",
     "text": [
      "INFO:fbprophet:Disabling weekly seasonality. Run prophet with weekly_seasonality=True to override this.\n",
      "INFO:fbprophet:Disabling daily seasonality. Run prophet with daily_seasonality=True to override this.\n"
     ]
    },
    {
     "data": {
      "text/plain": [
       "<fbprophet.forecaster.Prophet at 0x23e4a25a588>"
      ]
     },
     "execution_count": 8,
     "metadata": {},
     "output_type": "execute_result"
    }
   ],
   "source": [
    "m = Prophet()\n",
    "m.fit(df)"
   ]
  },
  {
   "cell_type": "code",
   "execution_count": 9,
   "metadata": {},
   "outputs": [],
   "source": [
    "future = pandas.DataFrame({'ds': airline['Month'].values})"
   ]
  },
  {
   "cell_type": "code",
   "execution_count": 10,
   "metadata": {},
   "outputs": [],
   "source": [
    "pp = m.predict(future)"
   ]
  },
  {
   "cell_type": "code",
   "execution_count": 11,
   "metadata": {},
   "outputs": [
    {
     "data": {
      "text/html": [
       "<div>\n",
       "<style scoped>\n",
       "    .dataframe tbody tr th:only-of-type {\n",
       "        vertical-align: middle;\n",
       "    }\n",
       "\n",
       "    .dataframe tbody tr th {\n",
       "        vertical-align: top;\n",
       "    }\n",
       "\n",
       "    .dataframe thead th {\n",
       "        text-align: right;\n",
       "    }\n",
       "</style>\n",
       "<table border=\"1\" class=\"dataframe\">\n",
       "  <thead>\n",
       "    <tr style=\"text-align: right;\">\n",
       "      <th></th>\n",
       "      <th>ds</th>\n",
       "      <th>trend</th>\n",
       "      <th>yhat_lower</th>\n",
       "      <th>yhat_upper</th>\n",
       "      <th>trend_lower</th>\n",
       "      <th>trend_upper</th>\n",
       "      <th>additive_terms</th>\n",
       "      <th>additive_terms_lower</th>\n",
       "      <th>additive_terms_upper</th>\n",
       "      <th>yearly</th>\n",
       "      <th>yearly_lower</th>\n",
       "      <th>yearly_upper</th>\n",
       "      <th>multiplicative_terms</th>\n",
       "      <th>multiplicative_terms_lower</th>\n",
       "      <th>multiplicative_terms_upper</th>\n",
       "      <th>yhat</th>\n",
       "    </tr>\n",
       "  </thead>\n",
       "  <tbody>\n",
       "    <tr>\n",
       "      <th>0</th>\n",
       "      <td>1949-01-01</td>\n",
       "      <td>108.788017</td>\n",
       "      <td>63.849968</td>\n",
       "      <td>111.969917</td>\n",
       "      <td>108.788017</td>\n",
       "      <td>108.788017</td>\n",
       "      <td>-20.238975</td>\n",
       "      <td>-20.238975</td>\n",
       "      <td>-20.238975</td>\n",
       "      <td>-20.238975</td>\n",
       "      <td>-20.238975</td>\n",
       "      <td>-20.238975</td>\n",
       "      <td>0.0</td>\n",
       "      <td>0.0</td>\n",
       "      <td>0.0</td>\n",
       "      <td>88.549042</td>\n",
       "    </tr>\n",
       "    <tr>\n",
       "      <th>1</th>\n",
       "      <td>1949-02-01</td>\n",
       "      <td>110.955522</td>\n",
       "      <td>59.178444</td>\n",
       "      <td>106.556876</td>\n",
       "      <td>110.955522</td>\n",
       "      <td>110.955522</td>\n",
       "      <td>-27.797394</td>\n",
       "      <td>-27.797394</td>\n",
       "      <td>-27.797394</td>\n",
       "      <td>-27.797394</td>\n",
       "      <td>-27.797394</td>\n",
       "      <td>-27.797394</td>\n",
       "      <td>0.0</td>\n",
       "      <td>0.0</td>\n",
       "      <td>0.0</td>\n",
       "      <td>83.158128</td>\n",
       "    </tr>\n",
       "    <tr>\n",
       "      <th>2</th>\n",
       "      <td>1949-03-01</td>\n",
       "      <td>112.913269</td>\n",
       "      <td>92.434624</td>\n",
       "      <td>140.180084</td>\n",
       "      <td>112.913269</td>\n",
       "      <td>112.913269</td>\n",
       "      <td>4.760132</td>\n",
       "      <td>4.760132</td>\n",
       "      <td>4.760132</td>\n",
       "      <td>4.760132</td>\n",
       "      <td>4.760132</td>\n",
       "      <td>4.760132</td>\n",
       "      <td>0.0</td>\n",
       "      <td>0.0</td>\n",
       "      <td>0.0</td>\n",
       "      <td>117.673402</td>\n",
       "    </tr>\n",
       "    <tr>\n",
       "      <th>3</th>\n",
       "      <td>1949-04-01</td>\n",
       "      <td>115.080775</td>\n",
       "      <td>87.691030</td>\n",
       "      <td>133.979174</td>\n",
       "      <td>115.080775</td>\n",
       "      <td>115.080775</td>\n",
       "      <td>-4.888152</td>\n",
       "      <td>-4.888152</td>\n",
       "      <td>-4.888152</td>\n",
       "      <td>-4.888152</td>\n",
       "      <td>-4.888152</td>\n",
       "      <td>-4.888152</td>\n",
       "      <td>0.0</td>\n",
       "      <td>0.0</td>\n",
       "      <td>0.0</td>\n",
       "      <td>110.192623</td>\n",
       "    </tr>\n",
       "    <tr>\n",
       "      <th>4</th>\n",
       "      <td>1949-05-01</td>\n",
       "      <td>117.178361</td>\n",
       "      <td>86.789916</td>\n",
       "      <td>135.014432</td>\n",
       "      <td>117.178361</td>\n",
       "      <td>117.178361</td>\n",
       "      <td>-5.807877</td>\n",
       "      <td>-5.807877</td>\n",
       "      <td>-5.807877</td>\n",
       "      <td>-5.807877</td>\n",
       "      <td>-5.807877</td>\n",
       "      <td>-5.807877</td>\n",
       "      <td>0.0</td>\n",
       "      <td>0.0</td>\n",
       "      <td>0.0</td>\n",
       "      <td>111.370485</td>\n",
       "    </tr>\n",
       "  </tbody>\n",
       "</table>\n",
       "</div>"
      ],
      "text/plain": [
       "          ds       trend  yhat_lower  yhat_upper  trend_lower  trend_upper  \\\n",
       "0 1949-01-01  108.788017   63.849968  111.969917   108.788017   108.788017   \n",
       "1 1949-02-01  110.955522   59.178444  106.556876   110.955522   110.955522   \n",
       "2 1949-03-01  112.913269   92.434624  140.180084   112.913269   112.913269   \n",
       "3 1949-04-01  115.080775   87.691030  133.979174   115.080775   115.080775   \n",
       "4 1949-05-01  117.178361   86.789916  135.014432   117.178361   117.178361   \n",
       "\n",
       "   additive_terms  additive_terms_lower  additive_terms_upper     yearly  \\\n",
       "0      -20.238975            -20.238975            -20.238975 -20.238975   \n",
       "1      -27.797394            -27.797394            -27.797394 -27.797394   \n",
       "2        4.760132              4.760132              4.760132   4.760132   \n",
       "3       -4.888152             -4.888152             -4.888152  -4.888152   \n",
       "4       -5.807877             -5.807877             -5.807877  -5.807877   \n",
       "\n",
       "   yearly_lower  yearly_upper  multiplicative_terms  \\\n",
       "0    -20.238975    -20.238975                   0.0   \n",
       "1    -27.797394    -27.797394                   0.0   \n",
       "2      4.760132      4.760132                   0.0   \n",
       "3     -4.888152     -4.888152                   0.0   \n",
       "4     -5.807877     -5.807877                   0.0   \n",
       "\n",
       "   multiplicative_terms_lower  multiplicative_terms_upper        yhat  \n",
       "0                         0.0                         0.0   88.549042  \n",
       "1                         0.0                         0.0   83.158128  \n",
       "2                         0.0                         0.0  117.673402  \n",
       "3                         0.0                         0.0  110.192623  \n",
       "4                         0.0                         0.0  111.370485  "
      ]
     },
     "execution_count": 11,
     "metadata": {},
     "output_type": "execute_result"
    }
   ],
   "source": [
    "pp.head()"
   ]
  },
  {
   "cell_type": "code",
   "execution_count": 12,
   "metadata": {},
   "outputs": [
    {
     "ename": "NameError",
     "evalue": "name 'seaborn' is not defined",
     "output_type": "error",
     "traceback": [
      "\u001b[1;31m---------------------------------------------------------------------------\u001b[0m",
      "\u001b[1;31mNameError\u001b[0m                                 Traceback (most recent call last)",
      "\u001b[1;32m<ipython-input-12-6786480a24a2>\u001b[0m in \u001b[0;36m<module>\u001b[1;34m\u001b[0m\n\u001b[1;32m----> 1\u001b[1;33m \u001b[0mseaborn\u001b[0m\u001b[1;33m.\u001b[0m\u001b[0mlineplot\u001b[0m\u001b[1;33m(\u001b[0m\u001b[1;34m'ds'\u001b[0m\u001b[1;33m,\u001b[0m \u001b[1;34m'trend'\u001b[0m\u001b[1;33m,\u001b[0m \u001b[0mdata\u001b[0m\u001b[1;33m=\u001b[0m\u001b[0mpp\u001b[0m\u001b[1;33m)\u001b[0m\u001b[1;33m\u001b[0m\u001b[1;33m\u001b[0m\u001b[0m\n\u001b[0m",
      "\u001b[1;31mNameError\u001b[0m: name 'seaborn' is not defined"
     ]
    }
   ],
   "source": [
    "seaborn.lineplot('ds', 'trend', data=pp)"
   ]
  },
  {
   "cell_type": "code",
   "execution_count": 14,
   "metadata": {},
   "outputs": [
    {
     "data": {
      "text/plain": [
       "<matplotlib.axes._subplots.AxesSubplot at 0x23e5229df28>"
      ]
     },
     "execution_count": 14,
     "metadata": {},
     "output_type": "execute_result"
    },
    {
     "data": {
      "image/png": "[encoded data removed]",
      "text/plain": [
       "<Figure size 432x288 with 1 Axes>"
      ]
     },
     "metadata": {
      "needs_background": "light"
     },
     "output_type": "display_data"
    }
   ],
   "source": [
    "seaborn.lineplot('ds', 'yearly', data=pp.iloc[:12])"
   ]
  },
  {
   "cell_type": "code",
   "execution_count": 13,
   "metadata": {},
   "outputs": [],
   "source": [
    "import seaborn"
   ]
  },
  {
   "cell_type": "code",
   "execution_count": 192,
   "metadata": {},
   "outputs": [
    {
     "data": {
      "text/plain": [
       "<matplotlib.axes._subplots.AxesSubplot at 0x1d68bdfa7f0>"
      ]
     },
     "execution_count": 192,
     "metadata": {},
     "output_type": "execute_result"
    },
    {
     "data": {
      "image/png": "[encoded data removed]",
      "text/plain": [
       "<Figure size 432x288 with 1 Axes>"
      ]
     },
     "metadata": {
      "needs_background": "light"
     },
     "output_type": "display_data"
    }
   ],
   "source": [
    "seaborn.lineplot('ds', 'yhat', data=pp)"
   ]
  },
  {
   "cell_type": "code",
   "execution_count": 193,
   "metadata": {},
   "outputs": [],
   "source": [
    "forecast = pp['yhat'].values[-24:]"
   ]
  },
  {
   "cell_type": "code",
   "execution_count": 198,
   "metadata": {},
   "outputs": [
    {
     "data": {
      "text/plain": [
       "<matplotlib.axes._subplots.AxesSubplot at 0x1d68a1905f8>"
      ]
     },
     "execution_count": 198,
     "metadata": {},
     "output_type": "execute_result"
    },
    {
     "data": {
      "image/png": "[encoded data removed]",
      "text/plain": [
       "<Figure size 432x288 with 1 Axes>"
      ]
     },
     "metadata": {
      "needs_background": "light"
     },
     "output_type": "display_data"
    }
   ],
   "source": [
    "seaborn.lineplot('Month', 'Passengers', data=airline, color='lightgrey')\n",
    "seaborn.lineplot(\n",
    "    airline.iloc[-24:, 0],\n",
    "    forecast,\n",
    "    color='red'\n",
    ")"
   ]
  },
  {
   "cell_type": "code",
   "execution_count": 194,
   "metadata": {},
   "outputs": [
    {
     "data": {
      "text/plain": [
       "1630.6312541454256"
      ]
     },
     "execution_count": 194,
     "metadata": {},
     "output_type": "execute_result"
    }
   ],
   "source": [
    "mean_squared_error(x_test, forecast)"
   ]
  },
  {
   "cell_type": "code",
   "execution_count": null,
   "metadata": {},
   "outputs": [],
   "source": [
    "1- mean_squared_error(x_test, forecast)/ numpy.var(x_test) #회귀에서의 r^2와 같은것"
   ]
  },
  {
   "cell_type": "markdown",
   "metadata": {},
   "source": [
    "facebook Prophet 따라하기"
   ]
  }
 ],
 "metadata": {
  "kernelspec": {
   "display_name": "Python 3",
   "language": "python",
   "name": "python3"
  },
  "language_info": {
   "codemirror_mode": {
    "name": "ipython",
    "version": 3
   },
   "file_extension": ".py",
   "mimetype": "text/x-python",
   "name": "python",
   "nbconvert_exporter": "python",
   "pygments_lexer": "ipython3",
   "version": "3.7.3"
  }
 },
 "nbformat": 4,
 "nbformat_minor": 2
}
